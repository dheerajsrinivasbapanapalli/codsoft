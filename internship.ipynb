{
 "cells": [
  {
   "cell_type": "code",
   "execution_count": 2,
   "id": "45a0fefd-da8e-495c-bb18-181e693afe9f",
   "metadata": {},
   "outputs": [
    {
     "name": "stdout",
     "output_type": "stream",
     "text": [
      "calculator\n",
      "1.addition\n",
      "2.subtraction\n",
      "3.multiplication\n",
      "4.division\n"
     ]
    },
    {
     "name": "stdin",
     "output_type": "stream",
     "text": [
      "enter choice : 1/2/3/4 1\n",
      "enter first number: 54\n",
      "enter second number: 64\n"
     ]
    },
    {
     "name": "stdout",
     "output_type": "stream",
     "text": [
      "result: 118.0\n"
     ]
    }
   ],
   "source": [
    "def add(x,y):\n",
    "    return x+y\n",
    "def sub(x,y):\n",
    "    return x-y\n",
    "def multi(x,y):\n",
    "    return x*y\n",
    "def div(x,y):\n",
    "    if y==0:\n",
    "        return \"error ! not divided by zero\"\n",
    "    return x/y\n",
    "print(\"calculator\")\n",
    "print(\"1.addition\")\n",
    "print(\"2.subtraction\")\n",
    "print(\"3.multiplication\")\n",
    "print(\"4.division\")\n",
    "choice = input(\"enter choice : 1/2/3/4\")\n",
    "num1=float(input(\"enter first number:\"))\n",
    "num2=float(input(\"enter second number:\"))\n",
    "if choice==\"1\":\n",
    "    print(\"result:\",add(num1,num2))\n",
    "elif choice==\"2\":\n",
    "    print(\"result:\",sub(num1,num2))\n",
    "elif choice==\"3\":\n",
    "    print(\"result:\",multi(num1,num2))\n",
    "elif choice==\"4\":\n",
    "    print(\"result:\",div(num1,num2))\n",
    "else:\n",
    "    print(\"invalid input!\")\n",
    "                    "
   ]
  },
  {
   "cell_type": "code",
   "execution_count": 3,
   "id": "4b758c1e-1d0a-46b1-a11e-0d0b8350f79e",
   "metadata": {},
   "outputs": [
    {
     "name": "stdout",
     "output_type": "stream",
     "text": [
      "🎯 Welcome to Your Minimal To-Do List!\n",
      "\n",
      "🗂️ To-Do Menu\n",
      "1. Add Task\n",
      "2. View Tasks\n",
      "3. Complete Task\n",
      "4. Delete Task\n",
      "5. Exit\n"
     ]
    },
    {
     "name": "stdin",
     "output_type": "stream",
     "text": [
      "Choose an option (1-5):  1\n",
      "Enter task title:  2\n",
      "Priority (high/medium/low):  3\n"
     ]
    },
    {
     "name": "stdout",
     "output_type": "stream",
     "text": [
      "❌ Invalid input. Please try again.\n",
      "\n",
      "🗂️ To-Do Menu\n",
      "1. Add Task\n",
      "2. View Tasks\n",
      "3. Complete Task\n",
      "4. Delete Task\n",
      "5. Exit\n"
     ]
    },
    {
     "name": "stdin",
     "output_type": "stream",
     "text": [
      "Choose an option (1-5):  5\n"
     ]
    },
    {
     "name": "stdout",
     "output_type": "stream",
     "text": [
      "👋 Goodbye! Stay productive!\n"
     ]
    }
   ],
   "source": [
    "tasks = []\n",
    "\n",
    "def show_menu():\n",
    "    print(\"\\n🗂️ To-Do Menu\")\n",
    "    print(\"1. Add Task\")\n",
    "    print(\"2. View Tasks\")\n",
    "    print(\"3. Complete Task\")\n",
    "    print(\"4. Delete Task\")\n",
    "    print(\"5. Exit\")\n",
    "\n",
    "def add_task():\n",
    "    title = input(\"Enter task title: \").strip()\n",
    "    priority = input(\"Priority (high/medium/low): \").lower()\n",
    "    if title and priority in ['high', 'medium', 'low']:\n",
    "        tasks.append({'title': title, 'priority': priority, 'done': False})\n",
    "        print(f\"✅ Task '{title}' added with {priority} priority.\")\n",
    "    else:\n",
    "        print(\"❌ Invalid input. Please try again.\")\n",
    "\n",
    "def view_tasks():\n",
    "    if not tasks:\n",
    "        print(\"📭 No tasks added.\")\n",
    "        return\n",
    "\n",
    "    print(\"\\n📋 Your Tasks:\")\n",
    "    for i, task in enumerate(tasks, 1):\n",
    "        status = \"✅\" if task['done'] else \"⏳\"\n",
    "        print(f\"{i}. [{status}] {task['title']} (Priority: {task['priority']})\")\n",
    "\n",
    "def complete_task():\n",
    "    view_tasks()\n",
    "    try:\n",
    "        index = int(input(\"Enter task number to mark as complete: \")) - 1\n",
    "        if 0 <= index < len(tasks):\n",
    "            tasks[index]['done'] = True\n",
    "            print(f\"🎉 Task '{tasks[index]['title']}' marked as complete.\")\n",
    "        else:\n",
    "            print(\"❌ Invalid task number.\")\n",
    "    except ValueError:\n",
    "        print(\"⚠️ Enter a valid number.\")\n",
    "\n",
    "def delete_task():\n",
    "    view_tasks()\n",
    "    try:\n",
    "        index = int(input(\"Enter task number to delete: \")) - 1\n",
    "        if 0 <= index < len(tasks):\n",
    "            removed = tasks.pop(index)\n",
    "            print(f\"🗑️ Task '{removed['title']}' deleted.\")\n",
    "        else:\n",
    "            print(\"❌ Invalid task number.\")\n",
    "    except ValueError:\n",
    "        print(\"⚠️ Enter a valid number.\")\n",
    "\n",
    "def main():\n",
    "    print(\"🎯 Welcome to Your Minimal To-Do List!\")\n",
    "    while True:\n",
    "        show_menu()\n",
    "        choice = input(\"Choose an option (1-5): \").strip()\n",
    "\n",
    "        if choice == '1':\n",
    "            add_task()\n",
    "        elif choice == '2':\n",
    "            view_tasks()\n",
    "        elif choice == '3':\n",
    "            complete_task()\n",
    "        elif choice == '4':\n",
    "            delete_task()\n",
    "        elif choice == '5':\n",
    "            print(\"👋 Goodbye! Stay productive!\")\n",
    "            break\n",
    "        else:\n",
    "            print(\"❌ Invalid choice. Try again.\")\n",
    "\n",
    "if __name__ == \"__main__\":\n",
    "    main()"
   ]
  },
  {
   "cell_type": "code",
   "execution_count": 2,
   "id": "b33f8815-ed7b-4bdf-abda-f151cffc5414",
   "metadata": {},
   "outputs": [
    {
     "name": "stdout",
     "output_type": "stream",
     "text": [
      "🎮 Welcome to Rock, Paper, Scissors!\n"
     ]
    },
    {
     "name": "stdin",
     "output_type": "stream",
     "text": [
      "Choose rock, paper, or scissors:  rock\n"
     ]
    },
    {
     "name": "stdout",
     "output_type": "stream",
     "text": [
      "\n",
      "You chose: rock\n",
      "Computer chose: paper\n",
      "Result: You lose. 😢\n",
      "\n",
      "Score => You: 0 | Computer: 1\n"
     ]
    },
    {
     "name": "stdin",
     "output_type": "stream",
     "text": [
      "\n",
      "Do you want to play another round? (yes/no):  no\n"
     ]
    },
    {
     "name": "stdout",
     "output_type": "stream",
     "text": [
      "\n",
      "Thanks for playing! Final score:\n",
      "You: 0 | Computer: 1\n"
     ]
    }
   ],
   "source": [
    "import random\n",
    "\n",
    "def get_user_choice():\n",
    "    choice = input(\"Choose rock, paper, or scissors: \").lower()\n",
    "    while choice not in ['rock', 'paper', 'scissors']:\n",
    "        print(\"Invalid choice.\")\n",
    "        choice = input(\"Please enter rock, paper, or scissors: \").lower()\n",
    "    return choice\n",
    "\n",
    "def get_computer_choice():\n",
    "    return random.choice(['rock', 'paper', 'scissors'])\n",
    "\n",
    "def determine_winner(user, computer):\n",
    "    if user == computer:\n",
    "        return 'tie'\n",
    "    elif (user == 'rock' and computer == 'scissors') or \\\n",
    "         (user == 'scissors' and computer == 'paper') or \\\n",
    "         (user == 'paper' and computer == 'rock'):\n",
    "        return 'win'\n",
    "    else:\n",
    "        return 'lose'\n",
    "#no\n",
    "def display_result(user, computer, result):\n",
    "    print(f\"\\nYou chose: {user}\")\n",
    "    print(f\"Computer chose: {computer}\")\n",
    "    if result == 'tie':\n",
    "        print(\"Result: It's a tie!\")\n",
    "    elif result == 'win':\n",
    "        print(\"Result: You win! 🎉\")\n",
    "    else:\n",
    "        print(\"Result: You lose. 😢\")\n",
    "\n",
    "def play_game():\n",
    "    user_score = 0\n",
    "    computer_score = 0\n",
    "\n",
    "    while True:\n",
    "        user_choice = get_user_choice()\n",
    "        computer_choice = get_computer_choice()\n",
    "        result = determine_winner(user_choice, computer_choice)\n",
    "        display_result(user_choice, computer_choice, result)\n",
    "\n",
    "        if result == 'win':\n",
    "            user_score += 1\n",
    "        elif result == 'lose':\n",
    "            computer_score += 1\n",
    "\n",
    "        print(f\"\\nScore => You: {user_score} | Computer: {computer_score}\")\n",
    "\n",
    "        play_again = input(\"\\nDo you want to play another round? (yes/no): \").lower()\n",
    "        if play_again != 'yes':\n",
    "            print(\"\\nThanks for playing! Final score:\")\n",
    "            print(f\"You: {user_score} | Computer: {computer_score}\")\n",
    "            break\n",
    "\n",
    "# Start the game\n",
    "if __name__ == \"__main__\":\n",
    "    print(\"🎮 Welcome to Rock, Paper, Scissors!\")\n",
    "    play_game()"
   ]
  },
  {
   "cell_type": "code",
   "execution_count": 10,
   "id": "25ac7232-c679-4906-b2f2-5662c46588a3",
   "metadata": {},
   "outputs": [
    {
     "name": "stdout",
     "output_type": "stream",
     "text": [
      "\n",
      "📱 Simple Contact Book\n",
      "1. Add Contact\n",
      "2. View Contacts\n",
      "3. Search Contact\n",
      "4. Update Contact\n",
      "5. Delete Contact\n",
      "6. Exit\n"
     ]
    },
    {
     "name": "stdin",
     "output_type": "stream",
     "text": [
      "Choose (1-6):  6\n"
     ]
    },
    {
     "name": "stdout",
     "output_type": "stream",
     "text": [
      "👋 Exiting Contact Book. Goodbye!\n"
     ]
    }
   ],
   "source": [
    "contact_book = []\n",
    "def add_contact():\n",
    "    print(\"\\n--- Add New Contact ---\")\n",
    "    name = input(\"Name: \")\n",
    "    phone = input(\"Phone: \")\n",
    "    email = input(\"Email: \")\n",
    "    address = input(\"Address: \")\n",
    "\n",
    "    contact = {\n",
    "        \"name\": name,\n",
    "        \"phone\": phone,\n",
    "        \"email\": email,\n",
    "        \"address\": address\n",
    "    }\n",
    "\n",
    "    contact_book.append(contact)\n",
    "    print(f\"✅ Contact '{name}' added.\")\n",
    "\n",
    "def view_contacts():\n",
    "    print(\"\\n--- Contact List ---\")\n",
    "    if not contact_book:\n",
    "        print(\"No contacts available.\")\n",
    "        return\n",
    "\n",
    "    for i, contact in enumerate(contact_book, 1):\n",
    "        print(f\"{i}. {contact['name']} - {contact['phone']}\")\n",
    "\n",
    "def search_contact():\n",
    "    print(\"\\n--- Search Contact ---\")\n",
    "    search = input(\"Enter name or phone number to search: \").lower()\n",
    "\n",
    "    found = False\n",
    "    for contact in contact_book:\n",
    "        if search in contact['name'].lower() or search in contact['phone']:\n",
    "            print(f\"\\n📌 Found Contact:\")\n",
    "            print(f\"Name   : {contact['name']}\")\n",
    "            print(f\"Phone  : {contact['phone']}\")\n",
    "            print(f\"Email  : {contact['email']}\")\n",
    "            print(f\"Address: {contact['address']}\")\n",
    "            found = True\n",
    "            break\n",
    "\n",
    "    if not found:\n",
    "        print(\"❌ Contact not found.\")\n",
    "\n",
    "def update_contact():\n",
    "    print(\"\\n--- Update Contact ---\")\n",
    "    name = input(\"Enter name of contact to update: \").lower()\n",
    "\n",
    "    for contact in contact_book:\n",
    "        if contact['name'].lower() == name:\n",
    "            print(\"Leave blank to keep existing info.\")\n",
    "            new_phone = input(f\"New Phone (current: {contact['phone']}): \") or contact['phone']\n",
    "            new_email = input(f\"New Email (current: {contact['email']}): \") or contact['email']\n",
    "            new_address = input(f\"New Address (current: {contact['address']}): \") or contact['address']\n",
    "\n",
    "            contact['phone'] = new_phone\n",
    "            contact['email'] = new_email\n",
    "            contact['address'] = new_address\n",
    "            print(f\"✅ Contact '{contact['name']}' updated.\")\n",
    "            return\n",
    "\n",
    "    print(\"❌ Contact not found.\")\n",
    "\n",
    "def delete_contact():\n",
    "    print(\"\\n--- Delete Contact ---\")\n",
    "    name = input(\"Enter name of contact to delete: \").lower()\n",
    "\n",
    "    for i, contact in enumerate(contact_book):\n",
    "        if contact['name'].lower() == name:\n",
    "            confirm = input(f\"Are you sure you want to delete '{contact['name']}'? (yes/no): \")\n",
    "            if confirm.lower() == 'yes':\n",
    "                del contact_book[i]\n",
    "                print(f\"🗑️ Contact '{contact['name']}' deleted.\")\n",
    "                return\n",
    "            else:\n",
    "                print(\"Deletion canceled.\")\n",
    "                return\n",
    "\n",
    "    print(\"❌ Contact not found.\")\n",
    "\n",
    "def main():\n",
    "    while True:\n",
    "        print(\"\\n📱 Simple Contact Book\")\n",
    "        print(\"1. Add Contact\")\n",
    "        print(\"2. View Contacts\")\n",
    "        print(\"3. Search Contact\")\n",
    "        print(\"4. Update Contact\")\n",
    "        print(\"5. Delete Contact\")\n",
    "        print(\"6. Exit\")\n",
    "\n",
    "        choice = input(\"Choose (1-6): \")\n",
    "\n",
    "        if choice == '1':\n",
    "            add_contact()\n",
    "        elif choice == '2':\n",
    "            view_contacts()\n",
    "        elif choice == '3':\n",
    "            search_contact()\n",
    "        elif choice == '4':\n",
    "            update_contact()\n",
    "        elif choice == '5':\n",
    "            delete_contact()\n",
    "        elif choice == '6':\n",
    "            print(\"👋 Exiting Contact Book. Goodbye!\")\n",
    "            break\n",
    "        else:\n",
    "            print(\"❌ Invalid choice. Please choose between 1-6.\")\n",
    "\n",
    "if __name__ == \"__main__\":\n",
    "    main()\n"
   ]
  },
  {
   "cell_type": "code",
   "execution_count": 1,
   "id": "fd8f5bc9-4806-43d3-a8aa-3f2f2ffdd2ac",
   "metadata": {},
   "outputs": [
    {
     "name": "stdout",
     "output_type": "stream",
     "text": [
      "🎯 Welcome to Your Minimal To-Do List!\n",
      "\n",
      "🗂️ To-Do Menu\n",
      "1. Add Task\n",
      "2. View Tasks\n",
      "3. Complete Task\n",
      "4. Delete Task\n",
      "5. Exit\n"
     ]
    },
    {
     "name": "stdin",
     "output_type": "stream",
     "text": [
      "Choose an option (1-5):  5\n"
     ]
    },
    {
     "name": "stdout",
     "output_type": "stream",
     "text": [
      "👋 Goodbye! Stay productive!\n"
     ]
    }
   ],
   "source": [
    "tasks = []\n",
    "\n",
    "def show_menu():\n",
    "    print(\"\\n🗂️ To-Do Menu\")\n",
    "    print(\"1. Add Task\")\n",
    "    print(\"2. View Tasks\")\n",
    "    print(\"3. Complete Task\")\n",
    "    print(\"4. Delete Task\")\n",
    "    print(\"5. Exit\")\n",
    "\n",
    "def add_task():\n",
    "    title = input(\"Enter task title: \").strip()\n",
    "    priority = input(\"Priority (high/medium/low): \").lower()\n",
    "    if title and priority in ['high', 'medium', 'low']:\n",
    "        tasks.append({'title': title, 'priority': priority, 'done': False})\n",
    "        print(f\"✅ Task '{title}' added with {priority} priority.\")\n",
    "    else:\n",
    "        print(\"❌ Invalid input. Please try again.\")\n",
    "def view_tasks():\n",
    "    if not tasks:\n",
    "        print(\"📭 No tasks added.\")\n",
    "        return\n",
    "\n",
    "    print(\"\\n📋 Your Tasks:\")\n",
    "    for i, task in enumerate(tasks, 1):\n",
    "        status = \"✅\" if task['done'] else \"⏳\"\n",
    "        print(f\"{i}. [{status}] {task['title']} (Priority: {task['priority']})\")\n",
    "def complete_task():\n",
    "    view_tasks()\n",
    "    try:\n",
    "        index = int(input(\"Enter task number to mark as complete: \")) - 1\n",
    "        if 0 <= index < len(tasks):\n",
    "            tasks[index]['done'] = True\n",
    "            print(f\"🎉 Task '{tasks[index]['title']}' marked as complete.\")\n",
    "        else:\n",
    "            print(\"❌ Invalid task number.\")\n",
    "    except ValueError:\n",
    "        print(\"⚠️ Enter a valid number.\")\n",
    "\n",
    "def delete_task():\n",
    "    view_tasks()\n",
    "    try:\n",
    "        index = int(input(\"Enter task number to delete: \")) - 1\n",
    "        if 0 <= index < len(tasks):\n",
    "            removed = tasks.pop(index)\n",
    "            print(f\"🗑️ Task '{removed['title']}' deleted.\")\n",
    "        else:\n",
    "            print(\"❌ Invalid task number.\")\n",
    "    except ValueError:\n",
    "        print(\"⚠️ Enter a valid number.\")\n",
    "\n",
    "def main():\n",
    "    print(\"🎯 Welcome to Your Minimal To-Do List!\")\n",
    "    while True:\n",
    "        show_menu()\n",
    "        choice = input(\"Choose an option (1-5): \").strip()\n",
    "\n",
    "        if choice == '1':\n",
    "            add_task()\n",
    "        elif choice == '2':\n",
    "            view_tasks()\n",
    "        elif choice == '3':\n",
    "            complete_task()\n",
    "        elif choice == '4':\n",
    "            delete_task()\n",
    "        elif choice == '5':\n",
    "            print(\"👋 Goodbye! Stay productive!\")\n",
    "            break\n",
    "        else:\n",
    "            print(\"❌ Invalid choice. Try again.\")\n",
    "\n",
    "if __name__ == \"__main__\":\n",
    "    main()"
   ]
  },
  {
   "cell_type": "code",
   "execution_count": null,
   "id": "58a646a7-9e20-42f9-9e58-035363175bff",
   "metadata": {},
   "outputs": [],
   "source": []
  }
 ],
 "metadata": {
  "kernelspec": {
   "display_name": "Python 3 (ipykernel)",
   "language": "python",
   "name": "python3"
  },
  "language_info": {
   "codemirror_mode": {
    "name": "ipython",
    "version": 3
   },
   "file_extension": ".py",
   "mimetype": "text/x-python",
   "name": "python",
   "nbconvert_exporter": "python",
   "pygments_lexer": "ipython3",
   "version": "3.13.2"
  }
 },
 "nbformat": 4,
 "nbformat_minor": 5
}
